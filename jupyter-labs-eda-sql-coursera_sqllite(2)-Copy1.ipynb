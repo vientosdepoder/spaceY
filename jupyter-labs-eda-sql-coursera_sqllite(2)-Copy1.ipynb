{
 "cells": [
  {
   "cell_type": "markdown",
   "metadata": {},
   "source": [
    "<p style=\"text-align:center\">\n",
    "    <a href=\"https://skills.network/?utm_medium=Exinfluencer&utm_source=Exinfluencer&utm_content=000026UJ&utm_term=10006555&utm_id=NA-SkillsNetwork-Channel-SkillsNetworkCoursesIBMDS0321ENSkillsNetwork26802033-2022-01-01\" target=\"_blank\">\n",
    "    <img src=\"https://cf-courses-data.s3.us.cloud-object-storage.appdomain.cloud/assets/logos/SN_web_lightmode.png\" width=\"200\" alt=\"Skills Network Logo\"  />\n",
    "    </a>\n",
    "</p>\n",
    "\n",
    "<h1 align=center><font size = 5>Assignment: SQL Notebook for Peer Assignment</font></h1>\n",
    "\n",
    "Estimated time needed: **60** minutes.\n",
    "\n",
    "## Introduction\n",
    "\n",
    "Using this Python notebook you will:\n",
    "\n",
    "1.  Understand the Spacex DataSet\n",
    "2.  Load the dataset  into the corresponding table in a Db2 database\n",
    "3.  Execute SQL queries to answer assignment questions\n"
   ]
  },
  {
   "cell_type": "markdown",
   "metadata": {},
   "source": [
    "## Overview of the DataSet\n",
    "\n",
    "SpaceX has gained worldwide attention for a series of historic milestones.\n",
    "\n",
    "It is the only private company ever to return a spacecraft from low-earth orbit, which it first accomplished in December 2010.\n",
    "SpaceX advertises Falcon 9 rocket launches on its website with a cost of 62 million dollars wheras other providers cost upward of 165 million dollars each, much of the savings is because Space X can reuse the first stage.\n",
    "\n",
    "Therefore if we can determine if the first stage will land, we can determine the cost of a launch.\n",
    "\n",
    "This information can be used if an alternate company wants to bid against SpaceX for a rocket launch.\n",
    "\n",
    "This dataset includes a record for each payload carried during a SpaceX mission into outer space.\n"
   ]
  },
  {
   "cell_type": "markdown",
   "metadata": {},
   "source": [
    "### Download the datasets\n",
    "\n",
    "This assignment requires you to load the spacex dataset.\n",
    "\n",
    "In many cases the dataset to be analyzed is available as a .CSV (comma separated values) file, perhaps on the internet. Click on the link below to download and save the dataset (.CSV file):\n",
    "\n",
    "<a href=\"https://cf-courses-data.s3.us.cloud-object-storage.appdomain.cloud/IBM-DS0321EN-SkillsNetwork/labs/module_2/data/Spacex.csv?utm_medium=Exinfluencer&utm_source=Exinfluencer&utm_content=000026UJ&utm_term=10006555&utm_id=NA-SkillsNetwork-Channel-SkillsNetworkCoursesIBMDS0321ENSkillsNetwork26802033-2022-01-01\" target=\"_blank\">Spacex DataSet</a>\n"
   ]
  },
  {
   "cell_type": "markdown",
   "metadata": {},
   "source": [
    "### Store the dataset in database table\n",
    "\n",
    "**it is highly recommended to manually load the table using the database console LOAD tool in DB2**.\n",
    "\n",
    "<img src = \"https://cf-courses-data.s3.us.cloud-object-storage.appdomain.cloud/IBM-DS0321EN-SkillsNetwork/labs/module_2/images/spacexload.png\">\n",
    "\n",
    "Now open the Db2 console, open the LOAD tool, Select / Drag the .CSV file for the  dataset, Next create a New Table, and then follow the steps on-screen instructions to load the data. Name the new table as follows:\n",
    "\n",
    "**SPACEXDATASET**\n",
    "\n",
    "**Follow these steps while using old DB2 UI which is having Open Console Screen**\n",
    "\n",
    "**Note:While loading Spacex dataset, ensure that detect datatypes is disabled. Later click on the pencil icon(edit option).**\n",
    "\n",
    "1.  Change the Date Format by manually typing DD-MM-YYYY and timestamp format as DD-MM-YYYY HH\\:MM:SS\n",
    "\n",
    "2.  Change the PAYLOAD_MASS\\_\\_KG\\_  datatype  to INTEGER.\n",
    "\n",
    "<img src = \"https://cf-courses-data.s3.us.cloud-object-storage.appdomain.cloud/IBM-DS0321EN-SkillsNetwork/labs/module_2/images/spacexload2.png\">\n"
   ]
  },
  {
   "cell_type": "markdown",
   "metadata": {},
   "source": [
    "**Changes to be considered when having DB2 instance with the new UI having Go to UI screen**\n",
    "\n",
    "*   Refer to this insruction in this <a href=\"https://cf-courses-data.s3.us.cloud-object-storage.appdomain.cloud/IBMDeveloperSkillsNetwork-DB0201EN-SkillsNetwork/labs/Labs_Coursera_V5/labs/Lab%20-%20Sign%20up%20for%20IBM%20Cloud%20-%20Create%20Db2%20service%20instance%20-%20Get%20started%20with%20the%20Db2%20console/instructional-labs.md.html?utm_medium=Exinfluencer&utm_source=Exinfluencer&utm_content=000026UJ&utm_term=10006555&utm_id=NA-SkillsNetwork-Channel-SkillsNetworkCoursesIBMDS0321ENSkillsNetwork26802033-2022-01-01\">link</a> for viewing  the new  Go to UI screen.\n",
    "\n",
    "*   Later click on **Data link(below SQL)**  in the Go to UI screen  and click on **Load Data** tab.\n",
    "\n",
    "*   Later browse for the downloaded spacex file.\n",
    "\n",
    "<img src=\"https://cf-courses-data.s3.us.cloud-object-storage.appdomain.cloud/IBM-DS0321EN-SkillsNetwork/labs/module_2/images/browsefile.png\" width=\"800\"/>\n",
    "\n",
    "*   Once done select the schema andload the file.\n",
    "\n",
    " <img src=\"https://cf-courses-data.s3.us.cloud-object-storage.appdomain.cloud/IBM-DS0321EN-SkillsNetwork/labs/module_2/images/spacexload3.png\" width=\"800\"/>\n"
   ]
  },
  {
   "cell_type": "code",
   "execution_count": 1,
   "metadata": {},
   "outputs": [
    {
     "name": "stdout",
     "output_type": "stream",
     "text": [
      "Defaulting to user installation because normal site-packages is not writeable\n",
      "Requirement already satisfied: sqlalchemy==1.3.9 in /home/c64/.local/lib/python3.8/site-packages (1.3.9)\n",
      "\n",
      "\u001b[1m[\u001b[0m\u001b[34;49mnotice\u001b[0m\u001b[1;39;49m]\u001b[0m\u001b[39;49m A new release of pip available: \u001b[0m\u001b[31;49m22.3\u001b[0m\u001b[39;49m -> \u001b[0m\u001b[32;49m22.3.1\u001b[0m\n",
      "\u001b[1m[\u001b[0m\u001b[34;49mnotice\u001b[0m\u001b[1;39;49m]\u001b[0m\u001b[39;49m To update, run: \u001b[0m\u001b[32;49mpython3 -m pip install --upgrade pip\u001b[0m\n"
     ]
    }
   ],
   "source": [
    "!pip install sqlalchemy==1.3.9\n"
   ]
  },
  {
   "cell_type": "markdown",
   "metadata": {},
   "source": [
    "### Connect to the database\n",
    "\n",
    "Let us first load the SQL extension and establish a connection with the database\n"
   ]
  },
  {
   "cell_type": "code",
   "execution_count": 2,
   "metadata": {},
   "outputs": [
    {
     "name": "stdout",
     "output_type": "stream",
     "text": [
      "Defaulting to user installation because normal site-packages is not writeable\n",
      "Requirement already satisfied: ipython-sql in /home/c64/.local/lib/python3.8/site-packages (0.4.1)\n",
      "Requirement already satisfied: ipython>=1.0 in /home/c64/.local/lib/python3.8/site-packages (from ipython-sql) (8.5.0)\n",
      "Requirement already satisfied: sqlalchemy>=0.6.7 in /home/c64/.local/lib/python3.8/site-packages (from ipython-sql) (1.3.9)\n",
      "Requirement already satisfied: prettytable<1 in /home/c64/.local/lib/python3.8/site-packages (from ipython-sql) (0.7.2)\n",
      "Requirement already satisfied: six in /home/c64/.local/lib/python3.8/site-packages (from ipython-sql) (1.12.0)\n",
      "Requirement already satisfied: sqlparse in /home/c64/.local/lib/python3.8/site-packages (from ipython-sql) (0.3.0)\n",
      "Requirement already satisfied: ipython-genutils>=0.1.0 in /home/c64/.local/lib/python3.8/site-packages (from ipython-sql) (0.2.0)\n",
      "Requirement already satisfied: jedi>=0.16 in /home/c64/.local/lib/python3.8/site-packages (from ipython>=1.0->ipython-sql) (0.18.1)\n",
      "Requirement already satisfied: pexpect>4.3 in /usr/lib/python3/dist-packages (from ipython>=1.0->ipython-sql) (4.6.0)\n",
      "Requirement already satisfied: matplotlib-inline in /home/c64/.local/lib/python3.8/site-packages (from ipython>=1.0->ipython-sql) (0.1.6)\n",
      "Requirement already satisfied: traitlets>=5 in /home/c64/.local/lib/python3.8/site-packages (from ipython>=1.0->ipython-sql) (5.4.0)\n",
      "Requirement already satisfied: backcall in /home/c64/.local/lib/python3.8/site-packages (from ipython>=1.0->ipython-sql) (0.2.0)\n",
      "Requirement already satisfied: pygments>=2.4.0 in /home/c64/.local/lib/python3.8/site-packages (from ipython>=1.0->ipython-sql) (2.13.0)\n",
      "Requirement already satisfied: prompt-toolkit<3.1.0,>3.0.1 in /home/c64/.local/lib/python3.8/site-packages (from ipython>=1.0->ipython-sql) (3.0.31)\n",
      "Requirement already satisfied: decorator in /home/c64/.local/lib/python3.8/site-packages (from ipython>=1.0->ipython-sql) (5.1.1)\n",
      "Requirement already satisfied: pickleshare in /home/c64/.local/lib/python3.8/site-packages (from ipython>=1.0->ipython-sql) (0.7.5)\n",
      "Requirement already satisfied: stack-data in /home/c64/.local/lib/python3.8/site-packages (from ipython>=1.0->ipython-sql) (0.5.1)\n",
      "Requirement already satisfied: parso<0.9.0,>=0.8.0 in /home/c64/.local/lib/python3.8/site-packages (from jedi>=0.16->ipython>=1.0->ipython-sql) (0.8.3)\n",
      "Requirement already satisfied: wcwidth in /home/c64/.local/lib/python3.8/site-packages (from prompt-toolkit<3.1.0,>3.0.1->ipython>=1.0->ipython-sql) (0.2.5)\n",
      "Requirement already satisfied: pure-eval in /home/c64/.local/lib/python3.8/site-packages (from stack-data->ipython>=1.0->ipython-sql) (0.2.2)\n",
      "Requirement already satisfied: asttokens in /home/c64/.local/lib/python3.8/site-packages (from stack-data->ipython>=1.0->ipython-sql) (2.0.8)\n",
      "Requirement already satisfied: executing in /home/c64/.local/lib/python3.8/site-packages (from stack-data->ipython>=1.0->ipython-sql) (1.1.0)\n",
      "\n",
      "\u001b[1m[\u001b[0m\u001b[34;49mnotice\u001b[0m\u001b[1;39;49m]\u001b[0m\u001b[39;49m A new release of pip available: \u001b[0m\u001b[31;49m22.3\u001b[0m\u001b[39;49m -> \u001b[0m\u001b[32;49m22.3.1\u001b[0m\n",
      "\u001b[1m[\u001b[0m\u001b[34;49mnotice\u001b[0m\u001b[1;39;49m]\u001b[0m\u001b[39;49m To update, run: \u001b[0m\u001b[32;49mpython3 -m pip install --upgrade pip\u001b[0m\n"
     ]
    }
   ],
   "source": [
    " !pip install ipython-sql"
   ]
  },
  {
   "cell_type": "code",
   "execution_count": 3,
   "metadata": {},
   "outputs": [],
   "source": [
    "%load_ext sql"
   ]
  },
  {
   "cell_type": "code",
   "execution_count": 4,
   "metadata": {},
   "outputs": [],
   "source": [
    "import csv, sqlite3\n",
    "\n",
    "con = sqlite3.connect(\"my_data1.db\")\n",
    "cur = con.cursor()"
   ]
  },
  {
   "cell_type": "code",
   "execution_count": 5,
   "metadata": {},
   "outputs": [
    {
     "name": "stdout",
     "output_type": "stream",
     "text": [
      "\n",
      "\u001b[1m[\u001b[0m\u001b[34;49mnotice\u001b[0m\u001b[1;39;49m]\u001b[0m\u001b[39;49m A new release of pip available: \u001b[0m\u001b[31;49m22.3\u001b[0m\u001b[39;49m -> \u001b[0m\u001b[32;49m22.3.1\u001b[0m\n",
      "\u001b[1m[\u001b[0m\u001b[34;49mnotice\u001b[0m\u001b[1;39;49m]\u001b[0m\u001b[39;49m To update, run: \u001b[0m\u001b[32;49mpython3 -m pip install --upgrade pip\u001b[0m\n"
     ]
    }
   ],
   "source": [
    "!pip install -q pandas==1.1.5"
   ]
  },
  {
   "cell_type": "code",
   "execution_count": 6,
   "metadata": {},
   "outputs": [],
   "source": [
    "%sql sqlite:///my_data1.db"
   ]
  },
  {
   "cell_type": "code",
   "execution_count": 7,
   "metadata": {},
   "outputs": [
    {
     "data": {
      "text/html": [
       "<div>\n",
       "<style scoped>\n",
       "    .dataframe tbody tr th:only-of-type {\n",
       "        vertical-align: middle;\n",
       "    }\n",
       "\n",
       "    .dataframe tbody tr th {\n",
       "        vertical-align: top;\n",
       "    }\n",
       "\n",
       "    .dataframe thead th {\n",
       "        text-align: right;\n",
       "    }\n",
       "</style>\n",
       "<table border=\"1\" class=\"dataframe\">\n",
       "  <thead>\n",
       "    <tr style=\"text-align: right;\">\n",
       "      <th></th>\n",
       "      <th>Date</th>\n",
       "      <th>Time (UTC)</th>\n",
       "      <th>Booster_Version</th>\n",
       "      <th>Launch_Site</th>\n",
       "      <th>Payload</th>\n",
       "      <th>PAYLOAD_MASS__KG_</th>\n",
       "      <th>Orbit</th>\n",
       "      <th>Customer</th>\n",
       "      <th>Mission_Outcome</th>\n",
       "      <th>Landing _Outcome</th>\n",
       "    </tr>\n",
       "  </thead>\n",
       "  <tbody>\n",
       "    <tr>\n",
       "      <th>0</th>\n",
       "      <td>04-06-2010</td>\n",
       "      <td>18:45:00</td>\n",
       "      <td>F9 v1.0  B0003</td>\n",
       "      <td>CCAFS LC-40</td>\n",
       "      <td>Dragon Spacecraft Qualification Unit</td>\n",
       "      <td>0</td>\n",
       "      <td>LEO</td>\n",
       "      <td>SpaceX</td>\n",
       "      <td>Success</td>\n",
       "      <td>Failure (parachute)</td>\n",
       "    </tr>\n",
       "    <tr>\n",
       "      <th>1</th>\n",
       "      <td>08-12-2010</td>\n",
       "      <td>15:43:00</td>\n",
       "      <td>F9 v1.0  B0004</td>\n",
       "      <td>CCAFS LC-40</td>\n",
       "      <td>Dragon demo flight C1, two CubeSats, barrel of...</td>\n",
       "      <td>0</td>\n",
       "      <td>LEO (ISS)</td>\n",
       "      <td>NASA (COTS) NRO</td>\n",
       "      <td>Success</td>\n",
       "      <td>Failure (parachute)</td>\n",
       "    </tr>\n",
       "    <tr>\n",
       "      <th>2</th>\n",
       "      <td>22-05-2012</td>\n",
       "      <td>07:44:00</td>\n",
       "      <td>F9 v1.0  B0005</td>\n",
       "      <td>CCAFS LC-40</td>\n",
       "      <td>Dragon demo flight C2</td>\n",
       "      <td>525</td>\n",
       "      <td>LEO (ISS)</td>\n",
       "      <td>NASA (COTS)</td>\n",
       "      <td>Success</td>\n",
       "      <td>No attempt</td>\n",
       "    </tr>\n",
       "    <tr>\n",
       "      <th>3</th>\n",
       "      <td>08-10-2012</td>\n",
       "      <td>00:35:00</td>\n",
       "      <td>F9 v1.0  B0006</td>\n",
       "      <td>CCAFS LC-40</td>\n",
       "      <td>SpaceX CRS-1</td>\n",
       "      <td>500</td>\n",
       "      <td>LEO (ISS)</td>\n",
       "      <td>NASA (CRS)</td>\n",
       "      <td>Success</td>\n",
       "      <td>No attempt</td>\n",
       "    </tr>\n",
       "    <tr>\n",
       "      <th>4</th>\n",
       "      <td>01-03-2013</td>\n",
       "      <td>15:10:00</td>\n",
       "      <td>F9 v1.0  B0007</td>\n",
       "      <td>CCAFS LC-40</td>\n",
       "      <td>SpaceX CRS-2</td>\n",
       "      <td>677</td>\n",
       "      <td>LEO (ISS)</td>\n",
       "      <td>NASA (CRS)</td>\n",
       "      <td>Success</td>\n",
       "      <td>No attempt</td>\n",
       "    </tr>\n",
       "    <tr>\n",
       "      <th>...</th>\n",
       "      <td>...</td>\n",
       "      <td>...</td>\n",
       "      <td>...</td>\n",
       "      <td>...</td>\n",
       "      <td>...</td>\n",
       "      <td>...</td>\n",
       "      <td>...</td>\n",
       "      <td>...</td>\n",
       "      <td>...</td>\n",
       "      <td>...</td>\n",
       "    </tr>\n",
       "    <tr>\n",
       "      <th>96</th>\n",
       "      <td>05-11-2020</td>\n",
       "      <td>23:24:23</td>\n",
       "      <td>F9 B5B1062.1</td>\n",
       "      <td>CCAFS SLC-40</td>\n",
       "      <td>GPS III-04 , Crew-1</td>\n",
       "      <td>4311</td>\n",
       "      <td>MEO</td>\n",
       "      <td>USSF</td>\n",
       "      <td>Success</td>\n",
       "      <td>Success</td>\n",
       "    </tr>\n",
       "    <tr>\n",
       "      <th>97</th>\n",
       "      <td>16-11-2020</td>\n",
       "      <td>00:27:00</td>\n",
       "      <td>F9 B5B1061.1</td>\n",
       "      <td>KSC LC-39A</td>\n",
       "      <td>Crew-1, Sentinel-6 Michael Freilich</td>\n",
       "      <td>12500</td>\n",
       "      <td>LEO (ISS)</td>\n",
       "      <td>NASA (CCP)</td>\n",
       "      <td>Success</td>\n",
       "      <td>Success</td>\n",
       "    </tr>\n",
       "    <tr>\n",
       "      <th>98</th>\n",
       "      <td>21-11-2020</td>\n",
       "      <td>17:17:08</td>\n",
       "      <td>F9 B5B1063.1</td>\n",
       "      <td>VAFB SLC-4E</td>\n",
       "      <td>Sentinel-6 Michael Freilich, Starlink 15 v1.0</td>\n",
       "      <td>1192</td>\n",
       "      <td>LEO</td>\n",
       "      <td>NASA / NOAA / ESA / EUMETSAT</td>\n",
       "      <td>Success</td>\n",
       "      <td>Success</td>\n",
       "    </tr>\n",
       "    <tr>\n",
       "      <th>99</th>\n",
       "      <td>25-11-2020</td>\n",
       "      <td>02:13:00</td>\n",
       "      <td>F9 B5 B1049.7</td>\n",
       "      <td>CCAFS SLC-40</td>\n",
       "      <td>Starlink 15 v1.0, SpaceX CRS-21</td>\n",
       "      <td>15600</td>\n",
       "      <td>LEO</td>\n",
       "      <td>SpaceX</td>\n",
       "      <td>Success</td>\n",
       "      <td>Success</td>\n",
       "    </tr>\n",
       "    <tr>\n",
       "      <th>100</th>\n",
       "      <td>06-12-2020</td>\n",
       "      <td>16:17:08</td>\n",
       "      <td>F9 B5 B1058.4</td>\n",
       "      <td>KSC LC-39A</td>\n",
       "      <td>SpaceX CRS-21</td>\n",
       "      <td>2972</td>\n",
       "      <td>LEO (ISS)</td>\n",
       "      <td>NASA (CRS)</td>\n",
       "      <td>Success</td>\n",
       "      <td>Success</td>\n",
       "    </tr>\n",
       "  </tbody>\n",
       "</table>\n",
       "<p>101 rows × 10 columns</p>\n",
       "</div>"
      ],
      "text/plain": [
       "           Date Time (UTC) Booster_Version   Launch_Site  \\\n",
       "0    04-06-2010   18:45:00  F9 v1.0  B0003   CCAFS LC-40   \n",
       "1    08-12-2010   15:43:00  F9 v1.0  B0004   CCAFS LC-40   \n",
       "2    22-05-2012   07:44:00  F9 v1.0  B0005   CCAFS LC-40   \n",
       "3    08-10-2012   00:35:00  F9 v1.0  B0006   CCAFS LC-40   \n",
       "4    01-03-2013   15:10:00  F9 v1.0  B0007   CCAFS LC-40   \n",
       "..          ...        ...             ...           ...   \n",
       "96   05-11-2020   23:24:23    F9 B5B1062.1  CCAFS SLC-40   \n",
       "97   16-11-2020   00:27:00   F9 B5B1061.1     KSC LC-39A   \n",
       "98   21-11-2020   17:17:08    F9 B5B1063.1   VAFB SLC-4E   \n",
       "99   25-11-2020   02:13:00  F9 B5 B1049.7   CCAFS SLC-40   \n",
       "100  06-12-2020   16:17:08  F9 B5 B1058.4     KSC LC-39A   \n",
       "\n",
       "                                               Payload  PAYLOAD_MASS__KG_  \\\n",
       "0                 Dragon Spacecraft Qualification Unit                  0   \n",
       "1    Dragon demo flight C1, two CubeSats, barrel of...                  0   \n",
       "2                                Dragon demo flight C2                525   \n",
       "3                                         SpaceX CRS-1                500   \n",
       "4                                         SpaceX CRS-2                677   \n",
       "..                                                 ...                ...   \n",
       "96                                 GPS III-04 , Crew-1               4311   \n",
       "97                Crew-1, Sentinel-6 Michael Freilich               12500   \n",
       "98      Sentinel-6 Michael Freilich, Starlink 15 v1.0                1192   \n",
       "99                     Starlink 15 v1.0, SpaceX CRS-21              15600   \n",
       "100                                      SpaceX CRS-21               2972   \n",
       "\n",
       "         Orbit                      Customer Mission_Outcome  \\\n",
       "0          LEO                        SpaceX         Success   \n",
       "1    LEO (ISS)               NASA (COTS) NRO         Success   \n",
       "2    LEO (ISS)                   NASA (COTS)         Success   \n",
       "3    LEO (ISS)                    NASA (CRS)         Success   \n",
       "4    LEO (ISS)                    NASA (CRS)         Success   \n",
       "..         ...                           ...             ...   \n",
       "96         MEO                          USSF         Success   \n",
       "97   LEO (ISS)                    NASA (CCP)         Success   \n",
       "98         LEO  NASA / NOAA / ESA / EUMETSAT         Success   \n",
       "99         LEO                        SpaceX         Success   \n",
       "100  LEO (ISS)                    NASA (CRS)         Success   \n",
       "\n",
       "        Landing _Outcome  \n",
       "0    Failure (parachute)  \n",
       "1    Failure (parachute)  \n",
       "2             No attempt  \n",
       "3             No attempt  \n",
       "4             No attempt  \n",
       "..                   ...  \n",
       "96               Success  \n",
       "97               Success  \n",
       "98               Success  \n",
       "99               Success  \n",
       "100              Success  \n",
       "\n",
       "[101 rows x 10 columns]"
      ]
     },
     "execution_count": 7,
     "metadata": {},
     "output_type": "execute_result"
    }
   ],
   "source": [
    "from sqlalchemy.types import Date\n",
    "import pandas as pd\n",
    "df = pd.read_csv(\"https://cf-courses-data.s3.us.cloud-object-storage.appdomain.cloud/IBM-DS0321EN-SkillsNetwork/labs/module_2/data/Spacex.csv\")\n",
    "df"
   ]
  },
  {
   "cell_type": "code",
   "execution_count": 9,
   "metadata": {},
   "outputs": [],
   "source": [
    "\n",
    "df['Date']= pd.to_datetime(df['Date'], infer_datetime_format=True).dt.date  \n"
   ]
  },
  {
   "cell_type": "code",
   "execution_count": 10,
   "metadata": {},
   "outputs": [
    {
     "name": "stdout",
     "output_type": "stream",
     "text": [
      "<class 'pandas.core.frame.DataFrame'>\n",
      "RangeIndex: 101 entries, 0 to 100\n",
      "Data columns (total 10 columns):\n",
      " #   Column             Non-Null Count  Dtype \n",
      "---  ------             --------------  ----- \n",
      " 0   Date               101 non-null    object\n",
      " 1   Time (UTC)         101 non-null    object\n",
      " 2   Booster_Version    101 non-null    object\n",
      " 3   Launch_Site        101 non-null    object\n",
      " 4   Payload            101 non-null    object\n",
      " 5   PAYLOAD_MASS__KG_  101 non-null    int64 \n",
      " 6   Orbit              101 non-null    object\n",
      " 7   Customer           101 non-null    object\n",
      " 8   Mission_Outcome    101 non-null    object\n",
      " 9   Landing _Outcome   101 non-null    object\n",
      "dtypes: int64(1), object(9)\n",
      "memory usage: 8.0+ KB\n"
     ]
    }
   ],
   "source": [
    "df.info()"
   ]
  },
  {
   "cell_type": "code",
   "execution_count": 12,
   "metadata": {},
   "outputs": [
    {
     "name": "stderr",
     "output_type": "stream",
     "text": [
      "/home/c64/.local/lib/python3.8/site-packages/pandas/core/generic.py:2605: UserWarning: The spaces in these column names will not be changed. In pandas versions < 0.14, spaces were converted to underscores.\n",
      "  sql.to_sql(\n"
     ]
    }
   ],
   "source": [
    "df.to_sql(\"SPACEXTBL\", con, if_exists='replace', index=False,method=\"multi\")"
   ]
  },
  {
   "cell_type": "markdown",
   "metadata": {},
   "source": [
    "## Tasks\n",
    "\n",
    "Now write and execute SQL queries to solve the assignment tasks.\n",
    "\n",
    "**Note: If the column names are in mixed case enclose it in double quotes\n",
    "For Example \"Landing_Outcome\"**\n",
    "\n",
    "### Task 1\n",
    "\n",
    "##### Display the names of the unique launch sites  in the space mission\n"
   ]
  },
  {
   "cell_type": "code",
   "execution_count": 13,
   "metadata": {},
   "outputs": [
    {
     "name": "stdout",
     "output_type": "stream",
     "text": [
      "CCAFS LC-40\n",
      "VAFB SLC-4E\n",
      "KSC LC-39A\n",
      "CCAFS SLC-40\n"
     ]
    }
   ],
   "source": [
    "names_LS=cur.execute('select distinct \"LAUNCH_SITE\" from SPACEXTBL;').fetchall()\n",
    "for name in names_LS:\n",
    "    print (name[0])"
   ]
  },
  {
   "cell_type": "markdown",
   "metadata": {},
   "source": [
    "### Task 2\n",
    "\n",
    "##### Display 5 records where launch sites begin with the string 'CCA'\n"
   ]
  },
  {
   "cell_type": "code",
   "execution_count": 14,
   "metadata": {},
   "outputs": [
    {
     "data": {
      "text/plain": [
       "('2010-04-06',\n",
       " '18:45:00',\n",
       " 'F9 v1.0  B0003',\n",
       " 'CCAFS LC-40',\n",
       " 'Dragon Spacecraft Qualification Unit',\n",
       " 0,\n",
       " 'LEO',\n",
       " 'SpaceX',\n",
       " 'Success',\n",
       " 'Failure (parachute)')"
      ]
     },
     "metadata": {},
     "output_type": "display_data"
    },
    {
     "data": {
      "text/plain": [
       "('2010-08-12',\n",
       " '15:43:00',\n",
       " 'F9 v1.0  B0004',\n",
       " 'CCAFS LC-40',\n",
       " 'Dragon demo flight C1, two CubeSats, barrel of Brouere cheese',\n",
       " 0,\n",
       " 'LEO (ISS)',\n",
       " 'NASA (COTS) NRO',\n",
       " 'Success',\n",
       " 'Failure (parachute)')"
      ]
     },
     "metadata": {},
     "output_type": "display_data"
    },
    {
     "data": {
      "text/plain": [
       "('2012-05-22',\n",
       " '07:44:00',\n",
       " 'F9 v1.0  B0005',\n",
       " 'CCAFS LC-40',\n",
       " 'Dragon demo flight C2',\n",
       " 525,\n",
       " 'LEO (ISS)',\n",
       " 'NASA (COTS)',\n",
       " 'Success',\n",
       " 'No attempt')"
      ]
     },
     "metadata": {},
     "output_type": "display_data"
    },
    {
     "data": {
      "text/plain": [
       "('2012-08-10',\n",
       " '00:35:00',\n",
       " 'F9 v1.0  B0006',\n",
       " 'CCAFS LC-40',\n",
       " 'SpaceX CRS-1',\n",
       " 500,\n",
       " 'LEO (ISS)',\n",
       " 'NASA (CRS)',\n",
       " 'Success',\n",
       " 'No attempt')"
      ]
     },
     "metadata": {},
     "output_type": "display_data"
    },
    {
     "data": {
      "text/plain": [
       "('2013-01-03',\n",
       " '15:10:00',\n",
       " 'F9 v1.0  B0007',\n",
       " 'CCAFS LC-40',\n",
       " 'SpaceX CRS-2',\n",
       " 677,\n",
       " 'LEO (ISS)',\n",
       " 'NASA (CRS)',\n",
       " 'Success',\n",
       " 'No attempt')"
      ]
     },
     "metadata": {},
     "output_type": "display_data"
    }
   ],
   "source": [
    "begin_w=cur.execute('select *  from SPACEXTBL where \"LAUNCH_SITE\" like \\'CCA%\\' limit 5;').fetchall()\n",
    "\n",
    "\n",
    "for record in begin_w:\n",
    "    display (record)"
   ]
  },
  {
   "cell_type": "markdown",
   "metadata": {},
   "source": [
    "### Task 3\n",
    "\n",
    "##### Display the total payload mass carried by boosters launched by NASA (CRS)\n"
   ]
  },
  {
   "cell_type": "code",
   "execution_count": 15,
   "metadata": {},
   "outputs": [
    {
     "name": "stdout",
     "output_type": "stream",
     "text": [
      "45596\n"
     ]
    }
   ],
   "source": [
    "total_mass_carried=cur.execute('select sum(\"PAYLOAD_MASS__KG_\")  from SPACEXTBL where \"CUSTOMER\"=\\'NASA (CRS)\\';').fetchall()\n",
    "print (total_mass_carried[0][0])"
   ]
  },
  {
   "cell_type": "markdown",
   "metadata": {},
   "source": [
    "### Task 4\n",
    "\n",
    "##### Display average payload mass carried by booster version F9 v1.1\n"
   ]
  },
  {
   "cell_type": "code",
   "execution_count": 16,
   "metadata": {},
   "outputs": [
    {
     "name": "stdout",
     "output_type": "stream",
     "text": [
      "2534.6666666666665\n"
     ]
    }
   ],
   "source": [
    "average_mass_carried=cur.execute('select avg(\"PAYLOAD_MASS__KG_\")  from SPACEXTBL where \"BOOSTER_VERSION\" like \\'F9 v1.1%\\';').fetchall()\n",
    "print (average_mass_carried[0][0])"
   ]
  },
  {
   "cell_type": "markdown",
   "metadata": {},
   "source": [
    "### Task 5\n",
    "\n",
    "##### List the date when the first succesful landing outcome in ground pad was acheived.\n",
    "\n",
    "*Hint:Use min function*\n"
   ]
  },
  {
   "cell_type": "code",
   "execution_count": 18,
   "metadata": {},
   "outputs": [
    {
     "name": "stdout",
     "output_type": "stream",
     "text": [
      "[('2015-12-22',)]\n"
     ]
    }
   ],
   "source": [
    "first_success_land_outc=cur.execute('select min(Date) from SPACEXTBL where \"Landing _Outcome\" = \"Success (ground pad)\"').fetchall()\n",
    "print (first_success_land_outc)"
   ]
  },
  {
   "cell_type": "markdown",
   "metadata": {},
   "source": [
    "### Task 6\n",
    "\n",
    "##### List the names of the boosters which have success in drone ship and have payload mass greater than 4000 but less than 6000\n"
   ]
  },
  {
   "cell_type": "code",
   "execution_count": 24,
   "metadata": {},
   "outputs": [
    {
     "data": {
      "text/plain": [
       "[('F9 FT B1022',), ('F9 FT B1026',), ('F9 FT  B1021.2',), ('F9 FT  B1031.2',)]"
      ]
     },
     "metadata": {},
     "output_type": "display_data"
    }
   ],
   "source": [
    "names_booster_success_droneship=cur.execute('select \"Booster_Version\" from SPACEXTBL where \"Landing _Outcome\" like \\'Success (drone ship)\\' AND \"PAYLOAD_MASS__KG_\">4000 AND \"PAYLOAD_MASS__KG_\"<6000;').fetchall()\n",
    "display(names_booster_success_droneship)"
   ]
  },
  {
   "cell_type": "markdown",
   "metadata": {},
   "source": [
    "### Task 7\n",
    "\n",
    "##### List the total number of successful and failure mission outcomes\n"
   ]
  },
  {
   "cell_type": "code",
   "execution_count": 32,
   "metadata": {},
   "outputs": [
    {
     "name": "stdout",
     "output_type": "stream",
     "text": [
      "successful:  61\n",
      "failure:  40\n"
     ]
    }
   ],
   "source": [
    "total_number=cur.execute('select count (*) from SPACEXTBL ').fetchall()\n",
    "number_success=cur.execute('select count (*) from SPACEXTBL where \"Landing _Outcome\" like \\'Success%\\';').fetchall()\n",
    "number_failure=total_number[0][0]-number_success[0][0]\n",
    "print (\"successful: \",number_success[0][0])\n",
    "print (\"failure: \", number_failure)"
   ]
  },
  {
   "cell_type": "markdown",
   "metadata": {
    "tags": []
   },
   "source": [
    "### Task 8\n",
    "\n",
    "##### List the   names of the booster_versions which have carried the maximum payload mass. Use a subquery\n"
   ]
  },
  {
   "cell_type": "code",
   "execution_count": 37,
   "metadata": {},
   "outputs": [
    {
     "data": {
      "text/plain": [
       "[('F9 B4  B1039.2', 2647, 1),\n",
       " ('F9 B4  B1040.2', 5384, 1),\n",
       " ('F9 B4  B1041.2', 9600, 1),\n",
       " ('F9 B4  B1043.2', 6460, 1),\n",
       " ('F9 B4 B1039.1', 3310, 1),\n",
       " ('F9 B4 B1040.1', 4990, 1),\n",
       " ('F9 B4 B1041.1', 9600, 1),\n",
       " ('F9 B4 B1042.1', 3500, 1),\n",
       " ('F9 B4 B1043.1', 5000, 1),\n",
       " ('F9 B4 B1044', 6092, 1),\n",
       " ('F9 B4 B1045.1', 362, 1),\n",
       " ('F9 B4 B1045.2', 2697, 1),\n",
       " ('F9 B5  B1046.1', 3600, 1),\n",
       " ('F9 B5 B1046.2', 5800, 1),\n",
       " ('F9 B5 B1046.3', 4000, 1),\n",
       " ('F9 B5 B1046.4', 12050, 1),\n",
       " ('F9 B5 B1047.2', 5300, 1),\n",
       " ('F9 B5 B1047.3 ', 6500, 1),\n",
       " ('F9 B5 B1048.2', 3000, 1),\n",
       " ('F9 B5 B1048.3', 4850, 1),\n",
       " ('F9 B5 B1048.4', 15600, 1),\n",
       " ('F9 B5 B1048.5', 15600, 1),\n",
       " ('F9 B5 B1049.2', 9600, 1),\n",
       " ('F9 B5 B1049.3', 13620, 1),\n",
       " ('F9 B5 B1049.4', 15600, 1),\n",
       " ('F9 B5 B1049.5', 15600, 1),\n",
       " ('F9 B5 B1049.6', 15440, 1),\n",
       " ('F9 B5 B1049.7 ', 15600, 1),\n",
       " ('F9 B5 B1051.2 ', 4200, 1),\n",
       " ('F9 B5 B1051.3', 15600, 1),\n",
       " ('F9 B5 B1051.4', 15600, 1),\n",
       " ('F9 B5 B1051.5', 14932, 1),\n",
       " ('F9 B5 B1051.6', 15600, 1),\n",
       " ('F9 B5 B1056.2 ', 2268, 1),\n",
       " ('F9 B5 B1056.3 ', 6956, 1),\n",
       " ('F9 B5 B1056.4', 15600, 1),\n",
       " ('F9 B5 B1058.2 ', 5500, 1),\n",
       " ('F9 B5 B1058.3 ', 15600, 1),\n",
       " ('F9 B5 B1058.4 ', 2972, 1),\n",
       " ('F9 B5 B1059.2', 1977, 1),\n",
       " ('F9 B5 B1059.3', 15410, 1),\n",
       " ('F9 B5 B1059.4', 3130, 1),\n",
       " ('F9 B5 B1060.2 ', 15600, 1),\n",
       " ('F9 B5 B1060.3', 15600, 1),\n",
       " ('F9 B5B1047.1', 7075, 1),\n",
       " ('F9 B5B1048.1', 9600, 1),\n",
       " ('F9 B5B1049.1', 7060, 1),\n",
       " ('F9 B5B1050', 2500, 1),\n",
       " ('F9 B5B1051.1', 12055, 1),\n",
       " ('F9 B5B1054', 4400, 1),\n",
       " ('F9 B5B1056.1 ', 2495, 1),\n",
       " ('F9 B5B1058.1 ', 12530, 1),\n",
       " ('F9 B5B1059.1', 2617, 1),\n",
       " ('F9 B5B1060.1', 4311, 1),\n",
       " ('F9 B5B1061.1 ', 12500, 1),\n",
       " ('F9 B5B1062.1', 4311, 1),\n",
       " ('F9 B5B1063.1', 1192, 1),\n",
       " ('F9 FT  B1021.2', 5300, 1),\n",
       " ('F9 FT  B1029.2', 3669, 1),\n",
       " ('F9 FT  B1031.2', 5200, 1),\n",
       " ('F9 FT  B1032.2', 4230, 1),\n",
       " ('F9 FT  B1035.2', 2205, 1),\n",
       " ('F9 FT  B1036.2', 9600, 1),\n",
       " ('F9 FT  B1038.2', 2150, 1),\n",
       " ('F9 FT B1019', 2034, 1),\n",
       " ('F9 FT B1020', 5271, 1),\n",
       " ('F9 FT B1021.1', 3136, 1),\n",
       " ('F9 FT B1022', 4696, 1),\n",
       " ('F9 FT B1023.1', 3100, 1),\n",
       " ('F9 FT B1024', 3600, 1),\n",
       " ('F9 FT B1025.1', 2257, 1),\n",
       " ('F9 FT B1026', 4600, 1),\n",
       " ('F9 FT B1029.1', 9600, 1),\n",
       " ('F9 FT B1030', 5600, 1),\n",
       " ('F9 FT B1031.1', 2490, 1),\n",
       " ('F9 FT B1032.1', 5300, 1),\n",
       " ('F9 FT B1034', 6070, 1),\n",
       " ('F9 FT B1035.1', 2708, 1),\n",
       " ('F9 FT B1036.1', 9600, 1),\n",
       " ('F9 FT B1037', 6761, 1),\n",
       " ('F9 FT B1038.1', 475, 1),\n",
       " ('F9 v1.0  B0003', 0, 0),\n",
       " ('F9 v1.0  B0004', 0, 0),\n",
       " ('F9 v1.0  B0005', 525, 1),\n",
       " ('F9 v1.0  B0006', 500, 1),\n",
       " ('F9 v1.0  B0007', 677, 1),\n",
       " ('F9 v1.1', 4535, 5),\n",
       " ('F9 v1.1  B1003', 500, 1),\n",
       " ('F9 v1.1 B1010', 2216, 1),\n",
       " ('F9 v1.1 B1011', 4428, 1),\n",
       " ('F9 v1.1 B1012', 2395, 1),\n",
       " ('F9 v1.1 B1013', 570, 1),\n",
       " ('F9 v1.1 B1014', 4159, 1),\n",
       " ('F9 v1.1 B1015', 1898, 1),\n",
       " ('F9 v1.1 B1016', 4707, 1),\n",
       " ('F9 v1.1 B1017', 553, 1),\n",
       " ('F9 v1.1 B1018', 1952, 1)]"
      ]
     },
     "execution_count": 37,
     "metadata": {},
     "output_type": "execute_result"
    }
   ],
   "source": [
    "max_payload=cur.execute('select \"BOOSTER_VERSION\",MAX(PAYLOAD_MASS__KG_),MIN(PAYLOAD_MASS__KG_,COUNT(*))  from SPACEXTBL GROUP BY \"BOOSTER_VERSION\" ').fetchall()\n",
    "max_payload"
   ]
  },
  {
   "cell_type": "markdown",
   "metadata": {},
   "source": [
    "### Task 9\n",
    "\n",
    "##### List the records which will display the month names, failure landing_outcomes in drone ship ,booster versions, launch_site for the months in year 2015.\n",
    "\n",
    "**Note: SQLLite does not support monthnames. So you need to use  substr(Date, 4, 2) as month to get the months and substr(Date,7,4)='2015' for year.**\n"
   ]
  },
  {
   "cell_type": "code",
   "execution_count": 55,
   "metadata": {},
   "outputs": [
    {
     "name": "stdout",
     "output_type": "stream",
     "text": [
      "record:  0\n",
      "\t month:  10\n",
      "\t year:  2015\n",
      "\t landing outcome:  Failure (drone ship)\n",
      "\t BOOSTER_VERSION:  F9 v1.1 B1012\n",
      "\t launch_site:  CCAFS LC-40\n",
      "record:  1\n",
      "\t month:  04\n",
      "\t year:  2015\n",
      "\t landing outcome:  Failure (drone ship)\n",
      "\t BOOSTER_VERSION:  F9 v1.1 B1015\n",
      "\t launch_site:  CCAFS LC-40\n"
     ]
    }
   ],
   "source": [
    "records_n=cur.execute('select Date,\"Landing _Outcome\",BOOSTER_VERSION,launch_site from SPACEXTBL  where \"Landing _Outcome\" = \\'Failure (drone ship)\\' and DATE like \\'2015%\\';').fetchall()\n",
    "records_n\n",
    "i=0\n",
    "for record in records_n:\n",
    "    print (\"record: \", i)\n",
    "    print ('\\t',\"month: \", record[0][5:7])\n",
    "    print ('\\t',\"year: \", record[0][0:4])\n",
    "    print ('\\t',\"landing outcome: \", record[1])\n",
    "    print ('\\t',\"BOOSTER_VERSION: \", record[2])\n",
    "    print ('\\t',\"launch_site: \", record[3])\n",
    "    \n",
    "    i=i+1"
   ]
  },
  {
   "cell_type": "markdown",
   "metadata": {},
   "source": [
    "### Task 10\n",
    "\n",
    "##### Rank the  count of  successful landing_outcomes between the date 04-06-2010 and 20-03-2017 in descending order.\n"
   ]
  },
  {
   "cell_type": "code",
   "execution_count": 61,
   "metadata": {},
   "outputs": [
    {
     "data": {
      "text/plain": [
       "[('2017-03-06',\n",
       "  '21:07:00',\n",
       "  'F9 FT B1035.1',\n",
       "  'KSC LC-39A',\n",
       "  'SpaceX CRS-11',\n",
       "  2708,\n",
       "  'LEO (ISS)',\n",
       "  'NASA (CRS)',\n",
       "  'Success',\n",
       "  'Success (ground pad)'),\n",
       " ('2017-02-19',\n",
       "  '14:39:00',\n",
       "  'F9 FT B1031.1',\n",
       "  'KSC LC-39A',\n",
       "  'SpaceX CRS-10',\n",
       "  2490,\n",
       "  'LEO (ISS)',\n",
       "  'NASA (CRS)',\n",
       "  'Success',\n",
       "  'Success (ground pad)'),\n",
       " ('2017-01-14',\n",
       "  '17:54:00',\n",
       "  'F9 FT B1029.1',\n",
       "  'VAFB SLC-4E',\n",
       "  'Iridium NEXT 1',\n",
       "  9600,\n",
       "  'Polar LEO',\n",
       "  'Iridium Communications',\n",
       "  'Success',\n",
       "  'Success (drone ship)'),\n",
       " ('2017-01-05',\n",
       "  '11:15:00',\n",
       "  'F9 FT B1032.1',\n",
       "  'KSC LC-39A',\n",
       "  'NROL-76',\n",
       "  5300,\n",
       "  'LEO',\n",
       "  'NRO',\n",
       "  'Success',\n",
       "  'Success (ground pad)'),\n",
       " ('2016-08-14',\n",
       "  '05:26:00',\n",
       "  'F9 FT B1026',\n",
       "  'CCAFS LC-40',\n",
       "  'JCSAT-16',\n",
       "  4600,\n",
       "  'GTO',\n",
       "  'SKY Perfect JSAT Group',\n",
       "  'Success',\n",
       "  'Success (drone ship)'),\n",
       " ('2016-08-04',\n",
       "  '20:43:00',\n",
       "  'F9 FT B1021.1',\n",
       "  'CCAFS LC-40',\n",
       "  'SpaceX CRS-8',\n",
       "  3136,\n",
       "  'LEO (ISS)',\n",
       "  'NASA (CRS)',\n",
       "  'Success',\n",
       "  'Success (drone ship)'),\n",
       " ('2016-07-18',\n",
       "  '04:45:00',\n",
       "  'F9 FT B1025.1',\n",
       "  'CCAFS LC-40',\n",
       "  'SpaceX CRS-9',\n",
       "  2257,\n",
       "  'LEO (ISS)',\n",
       "  'NASA (CRS)',\n",
       "  'Success',\n",
       "  'Success (ground pad)'),\n",
       " ('2016-06-05',\n",
       "  '05:21:00',\n",
       "  'F9 FT B1022',\n",
       "  'CCAFS LC-40',\n",
       "  'JCSAT-14',\n",
       "  4696,\n",
       "  'GTO',\n",
       "  'SKY Perfect JSAT Group',\n",
       "  'Success',\n",
       "  'Success (drone ship)'),\n",
       " ('2016-05-27',\n",
       "  '21:39:00',\n",
       "  'F9 FT B1023.1',\n",
       "  'CCAFS LC-40',\n",
       "  'Thaicom 8',\n",
       "  3100,\n",
       "  'GTO',\n",
       "  'Thaicom',\n",
       "  'Success',\n",
       "  'Success (drone ship)'),\n",
       " ('2015-12-22',\n",
       "  '01:29:00',\n",
       "  'F9 FT B1019',\n",
       "  'CCAFS LC-40',\n",
       "  'OG2 Mission 2  11 Orbcomm-OG2 satellites',\n",
       "  2034,\n",
       "  'LEO',\n",
       "  'Orbcomm',\n",
       "  'Success',\n",
       "  'Success (ground pad)')]"
      ]
     },
     "execution_count": 61,
     "metadata": {},
     "output_type": "execute_result"
    }
   ],
   "source": [
    "rank = con.execute ('select *  from SPACEXTBL where \"Landing _Outcome\" like \\'Success%\\' and Date > \\'2010-06-04\\' and Date < \\'2017-03-20\\' order by Date DESC ;' ).fetchall()\n",
    "rank\n"
   ]
  },
  {
   "cell_type": "markdown",
   "metadata": {},
   "source": [
    "### Reference Links\n",
    "\n",
    "*   <a href =\"https://cf-courses-data.s3.us.cloud-object-storage.appdomain.cloud/IBMDeveloperSkillsNetwork-DB0201EN-SkillsNetwork/labs/Labs_Coursera_V5/labs/Lab%20-%20String%20Patterns%20-%20Sorting%20-%20Grouping/instructional-labs.md.html?utm_medium=Exinfluencer&utm_source=Exinfluencer&utm_content=000026UJ&utm_term=10006555&utm_id=NA-SkillsNetwork-Channel-SkillsNetworkCoursesIBMDS0321ENSkillsNetwork26802033-2022-01-01&origin=www.coursera.org\">Hands-on Lab : String Patterns, Sorting and Grouping</a>\n",
    "\n",
    "*   <a  href=\"https://cf-courses-data.s3.us.cloud-object-storage.appdomain.cloud/IBMDeveloperSkillsNetwork-DB0201EN-SkillsNetwork/labs/Labs_Coursera_V5/labs/Lab%20-%20Built-in%20functions%20/Hands-on_Lab__Built-in_Functions.md.html?utm_medium=Exinfluencer&utm_source=Exinfluencer&utm_content=000026UJ&utm_term=10006555&utm_id=NA-SkillsNetwork-Channel-SkillsNetworkCoursesIBMDS0321ENSkillsNetwork26802033-2022-01-01&origin=www.coursera.org\">Hands-on Lab: Built-in functions</a>\n",
    "\n",
    "*   <a  href=\"https://cf-courses-data.s3.us.cloud-object-storage.appdomain.cloud/IBMDeveloperSkillsNetwork-DB0201EN-SkillsNetwork/labs/Labs_Coursera_V5/labs/Lab%20-%20Sub-queries%20and%20Nested%20SELECTs%20/instructional-labs.md.html?utm_medium=Exinfluencer&utm_source=Exinfluencer&utm_content=000026UJ&utm_term=10006555&utm_id=NA-SkillsNetwork-Channel-SkillsNetworkCoursesIBMDS0321ENSkillsNetwork26802033-2022-01-01&origin=www.coursera.org\">Hands-on Lab : Sub-queries and Nested SELECT Statements</a>\n",
    "\n",
    "*   <a href=\"https://cf-courses-data.s3.us.cloud-object-storage.appdomain.cloud/IBMDeveloperSkillsNetwork-DB0201EN-SkillsNetwork/labs/Module%205/DB0201EN-Week3-1-3-SQLmagic.ipynb?utm_medium=Exinfluencer&utm_source=Exinfluencer&utm_content=000026UJ&utm_term=10006555&utm_id=NA-SkillsNetwork-Channel-SkillsNetworkCoursesIBMDS0321ENSkillsNetwork26802033-2022-01-01\">Hands-on Tutorial: Accessing Databases with SQL magic</a>\n",
    "\n",
    "*   <a href= \"https://cf-courses-data.s3.us.cloud-object-storage.appdomain.cloud/IBMDeveloperSkillsNetwork-DB0201EN-SkillsNetwork/labs/Module%205/DB0201EN-Week3-1-4-Analyzing.ipynb?utm_medium=Exinfluencer&utm_source=Exinfluencer&utm_content=000026UJ&utm_term=10006555&utm_id=NA-SkillsNetwork-Channel-SkillsNetworkCoursesIBMDS0321ENSkillsNetwork26802033-2022-01-01\">Hands-on Lab: Analyzing a real World Data Set</a>\n"
   ]
  },
  {
   "cell_type": "markdown",
   "metadata": {},
   "source": [
    "## Author(s)\n",
    "\n",
    "<h4> Lakshmi Holla </h4>\n"
   ]
  },
  {
   "cell_type": "markdown",
   "metadata": {},
   "source": [
    "## Other Contributors\n",
    "\n",
    "<h4> Rav Ahuja </h4>\n"
   ]
  },
  {
   "cell_type": "markdown",
   "metadata": {},
   "source": [
    "## Change log\n",
    "\n",
    "| Date       | Version | Changed by    | Change Description        |\n",
    "| ---------- | ------- | ------------- | ------------------------- |\n",
    "| 2021-07-09 | 0.2     | Lakshmi Holla | Changes made in magic sql |\n",
    "| 2021-05-20 | 0.1     | Lakshmi Holla | Created Initial Version   |\n"
   ]
  },
  {
   "cell_type": "markdown",
   "metadata": {},
   "source": [
    "## <h3 align=\"center\"> © IBM Corporation 2021. All rights reserved. <h3/>\n"
   ]
  }
 ],
 "metadata": {
  "kernelspec": {
   "display_name": "Python 3 (ipykernel)",
   "language": "python",
   "name": "python3"
  },
  "language_info": {
   "codemirror_mode": {
    "name": "ipython",
    "version": 3
   },
   "file_extension": ".py",
   "mimetype": "text/x-python",
   "name": "python",
   "nbconvert_exporter": "python",
   "pygments_lexer": "ipython3",
   "version": "3.8.10"
  }
 },
 "nbformat": 4,
 "nbformat_minor": 4
}
